{
 "cells": [
  {
   "cell_type": "markdown",
   "metadata": {},
   "source": [
    "# Examples and Exercises from Think Stats, 2nd Edition\n",
    "\n",
    "http://thinkstats2.com\n",
    "\n",
    "Copyright 2016 Allen B. Downey\n",
    "\n",
    "MIT License: https://opensource.org/licenses/MIT\n"
   ]
  },
  {
   "cell_type": "code",
   "execution_count": 5,
   "metadata": {
    "collapsed": false
   },
   "outputs": [
    {
     "name": "stderr",
     "output_type": "stream",
     "text": [
      "/home/willem/anaconda2/lib/python2.7/site-packages/matplotlib/font_manager.py:273: UserWarning: Matplotlib is building the font cache using fc-list. This may take a moment.\n",
      "  warnings.warn('Matplotlib is building the font cache using fc-list. This may take a moment.')\n"
     ]
    }
   ],
   "source": [
    "from __future__ import print_function, division\n",
    "\n",
    "%matplotlib inline\n",
    "\n",
    "import numpy as np\n",
    "\n",
    "import nsfg\n",
    "import first\n",
    "import thinkstats2\n",
    "import thinkplot"
   ]
  },
  {
   "cell_type": "markdown",
   "metadata": {},
   "source": [
    "## Examples\n",
    "\n",
    "One more time, I'll load the data from the NSFG."
   ]
  },
  {
   "cell_type": "code",
   "execution_count": 6,
   "metadata": {
    "collapsed": false
   },
   "outputs": [
    {
     "name": "stdout",
     "output_type": "stream",
     "text": [
      "       caseid  pregordr  howpreg_n  howpreg_p  moscurrp  nowprgdk  pregend1  \\\n",
      "0           1         1        NaN        NaN       NaN       NaN       6.0   \n",
      "2           2         1        NaN        NaN       NaN       NaN       5.0   \n",
      "5           6         1        NaN        NaN       NaN       NaN       6.0   \n",
      "8           7         1        NaN        NaN       NaN       NaN       5.0   \n",
      "10         12         1        NaN        NaN       NaN       NaN       5.0   \n",
      "11         14         1        NaN        NaN       NaN       NaN       6.0   \n",
      "15         15         2        NaN        NaN       NaN       NaN       6.0   \n",
      "17         18         1        NaN        NaN       NaN       NaN       5.0   \n",
      "19         21         1        NaN        NaN       NaN       NaN       6.0   \n",
      "21         23         1        NaN        NaN       NaN       NaN       6.0   \n",
      "23         24         1        NaN        NaN       NaN       NaN       6.0   \n",
      "26         28         1        NaN        NaN       NaN       NaN       6.0   \n",
      "27         31         1        NaN        NaN       NaN       NaN       6.0   \n",
      "31         36         2        NaN        NaN       NaN       NaN       6.0   \n",
      "32         38         1        NaN        NaN       NaN       NaN       5.0   \n",
      "35         39         1        NaN        NaN       NaN       NaN       5.0   \n",
      "39         44         3        NaN        NaN       NaN       NaN       6.0   \n",
      "42         46         1        NaN        NaN       NaN       NaN       5.0   \n",
      "44         49         1        NaN        NaN       NaN       NaN       6.0   \n",
      "48         51         1        NaN        NaN       NaN       NaN       6.0   \n",
      "52         57         1        NaN        NaN       NaN       NaN       5.0   \n",
      "55         60         1        NaN        NaN       NaN       NaN       6.0   \n",
      "58         63         2        NaN        NaN       NaN       NaN       6.0   \n",
      "60         69         1        NaN        NaN       NaN       NaN       6.0   \n",
      "62         70         2        NaN        NaN       NaN       NaN       6.0   \n",
      "65         71         1        NaN        NaN       NaN       NaN       6.0   \n",
      "67         72         2        NaN        NaN       NaN       NaN       6.0   \n",
      "68         73         1        NaN        NaN       NaN       NaN       6.0   \n",
      "70         77         1        NaN        NaN       NaN       NaN       6.0   \n",
      "72         80         1        NaN        NaN       NaN       NaN       6.0   \n",
      "...       ...       ...        ...        ...       ...       ...       ...   \n",
      "13502   12488         1        NaN        NaN       NaN       NaN       6.0   \n",
      "13506   12490         1        NaN        NaN       NaN       NaN       6.0   \n",
      "13509   12494         1        NaN        NaN       NaN       NaN       6.0   \n",
      "13511   12497         1        NaN        NaN       NaN       NaN       6.0   \n",
      "13516   12499         4        NaN        NaN       NaN       NaN       6.0   \n",
      "13518   12501         1        NaN        NaN       NaN       NaN       5.0   \n",
      "13519   12507         1        NaN        NaN       NaN       NaN       6.0   \n",
      "13520   12508         1        NaN        NaN       NaN       NaN       6.0   \n",
      "13522   12510         2        NaN        NaN       NaN       NaN       6.0   \n",
      "13525   12511         1        NaN        NaN       NaN       NaN       5.0   \n",
      "13528   12514         1        NaN        NaN       NaN       NaN       5.0   \n",
      "13531   12518         1        NaN        NaN       NaN       NaN       5.0   \n",
      "13537   12525         1        NaN        NaN       NaN       NaN       5.0   \n",
      "13538   12528         1        NaN        NaN       NaN       NaN       6.0   \n",
      "13544   12535         1        NaN        NaN       NaN       NaN       6.0   \n",
      "13547   12539         1        NaN        NaN       NaN       NaN       5.0   \n",
      "13551   12541         1        NaN        NaN       NaN       NaN       6.0   \n",
      "13555   12544         1        NaN        NaN       NaN       NaN       5.0   \n",
      "13559   12545         2        NaN        NaN       NaN       NaN       6.0   \n",
      "13560   12546         1        NaN        NaN       NaN       NaN       6.0   \n",
      "13562   12547         1        NaN        NaN       NaN       NaN       6.0   \n",
      "13565   12550         1        NaN        NaN       NaN       NaN       6.0   \n",
      "13566   12551         1        NaN        NaN       NaN       NaN       5.0   \n",
      "13569   12556         1        NaN        NaN       NaN       NaN       6.0   \n",
      "13573   12561         1        NaN        NaN       NaN       NaN       6.0   \n",
      "13576   12565         1        NaN        NaN       NaN       NaN       6.0   \n",
      "13578   12566         1        NaN        NaN       NaN       NaN       6.0   \n",
      "13581   12568         2        NaN        NaN       NaN       NaN       5.0   \n",
      "13584   12569         2        NaN        NaN       NaN       NaN       6.0   \n",
      "13588   12571         1        NaN        NaN       NaN       NaN       6.0   \n",
      "\n",
      "       pregend2  nbrnaliv  multbrth     ...       laborfor_i  religion_i  \\\n",
      "0           NaN       1.0       NaN     ...                0           0   \n",
      "2           NaN       3.0       5.0     ...                0           0   \n",
      "5           NaN       1.0       NaN     ...                0           0   \n",
      "8           NaN       1.0       NaN     ...                0           0   \n",
      "10          NaN       1.0       NaN     ...                0           0   \n",
      "11          NaN       1.0       NaN     ...                0           0   \n",
      "15          NaN       1.0       NaN     ...                0           0   \n",
      "17          NaN       1.0       NaN     ...                0           0   \n",
      "19          NaN       1.0       NaN     ...                0           0   \n",
      "21          NaN       1.0       NaN     ...                0           0   \n",
      "23          NaN       1.0       NaN     ...                0           0   \n",
      "26          NaN       1.0       NaN     ...                0           0   \n",
      "27          NaN       1.0       NaN     ...                0           0   \n",
      "31          NaN       1.0       NaN     ...                0           0   \n",
      "32          NaN       1.0       NaN     ...                0           0   \n",
      "35          NaN       2.0       1.0     ...                0           0   \n",
      "39          NaN       1.0       NaN     ...                0           0   \n",
      "42          NaN       1.0       NaN     ...                0           0   \n",
      "44          NaN       1.0       NaN     ...                0           0   \n",
      "48          NaN       1.0       NaN     ...                0           0   \n",
      "52          NaN       1.0       NaN     ...                0           0   \n",
      "55          NaN       1.0       NaN     ...                0           0   \n",
      "58          NaN       1.0       NaN     ...                0           0   \n",
      "60          NaN       1.0       NaN     ...                0           0   \n",
      "62          NaN       1.0       NaN     ...                0           0   \n",
      "65          NaN       1.0       NaN     ...                0           0   \n",
      "67          NaN       1.0       NaN     ...                0           0   \n",
      "68          NaN       1.0       NaN     ...                0           0   \n",
      "70          NaN       1.0       NaN     ...                0           0   \n",
      "72          NaN       1.0       NaN     ...                0           0   \n",
      "...         ...       ...       ...     ...              ...         ...   \n",
      "13502       NaN       1.0       NaN     ...                0           0   \n",
      "13506       NaN       1.0       NaN     ...                0           0   \n",
      "13509       NaN       1.0       NaN     ...                0           0   \n",
      "13511       NaN       1.0       NaN     ...                0           0   \n",
      "13516       NaN       1.0       NaN     ...                0           0   \n",
      "13518       NaN       1.0       NaN     ...                0           0   \n",
      "13519       NaN       1.0       NaN     ...                0           0   \n",
      "13520       NaN       1.0       NaN     ...                0           0   \n",
      "13522       NaN       1.0       NaN     ...                0           0   \n",
      "13525       NaN       1.0       NaN     ...                0           0   \n",
      "13528       NaN       1.0       NaN     ...                0           0   \n",
      "13531       NaN       1.0       NaN     ...                0           0   \n",
      "13537       NaN       1.0       NaN     ...                0           0   \n",
      "13538       NaN       1.0       NaN     ...                0           0   \n",
      "13544       NaN       1.0       NaN     ...                0           0   \n",
      "13547       NaN       2.0       1.0     ...                0           0   \n",
      "13551       NaN       1.0       NaN     ...                0           0   \n",
      "13555       NaN       1.0       NaN     ...                0           0   \n",
      "13559       NaN       1.0       NaN     ...                0           0   \n",
      "13560       NaN       1.0       NaN     ...                0           0   \n",
      "13562       NaN       1.0       NaN     ...                0           0   \n",
      "13565       NaN       1.0       NaN     ...                0           0   \n",
      "13566       NaN       1.0       NaN     ...                0           0   \n",
      "13569       NaN       1.0       NaN     ...                0           0   \n",
      "13573       NaN       1.0       NaN     ...                0           0   \n",
      "13576       NaN       1.0       NaN     ...                0           0   \n",
      "13578       NaN       1.0       NaN     ...                0           0   \n",
      "13581       NaN       1.0       NaN     ...                0           0   \n",
      "13584       NaN       1.0       NaN     ...                0           0   \n",
      "13588       NaN       1.0       NaN     ...                0           0   \n",
      "\n",
      "       metro_i       basewgt  adj_mod_basewgt      finalwgt  secu_p  sest  \\\n",
      "0            0   3410.389399      3869.349602   6448.271112       2     9   \n",
      "2            0   7226.301740      8567.549110  12999.542264       2    12   \n",
      "5            0   4870.926435      5325.196999   8874.440799       1    23   \n",
      "8            0   3409.579565      3787.539000   6911.879921       2    14   \n",
      "10           0   3612.781968      4146.013572   6909.331618       1    31   \n",
      "11           0   2418.069494      2810.302771   3039.904507       2    56   \n",
      "15           0   1667.816099      3200.862017   5553.495599       1    33   \n",
      "17           0   2957.257457      3404.403067   4153.371741       2    14   \n",
      "19           0   3408.342437      3965.763949   7237.122630       1    48   \n",
      "21           0   6210.373020      8120.841310  13533.382043       2    64   \n",
      "23           0   3409.573258      4068.628645   7424.840414       1    27   \n",
      "26           0   3407.794208      3808.343516   6949.846082       2    57   \n",
      "27           0   3405.679025      4272.084519   5211.943113       1     2   \n",
      "31           0   1668.415087      1969.717778   3594.537973       1    69   \n",
      "32           0   4780.758522      5555.002527  10137.324111       2    36   \n",
      "35           0   1167.715478      1425.542080   1853.347258       1    28   \n",
      "39           0   3879.663879      4304.346246   4656.011334       2    48   \n",
      "42           0  15100.708977     17331.441183  28882.846732       1    24   \n",
      "44           0   1805.998152      2030.238242   2737.370222       1    46   \n",
      "48           0   4602.966038      8739.312970  11361.980792       1    20   \n",
      "52           0   2417.557699      3640.181849   4619.754785       1    62   \n",
      "55           0   3409.452810      3874.928670   7071.357329       1     5   \n",
      "58           0   3410.208760      4065.874139   7419.813716       1     3   \n",
      "60           0   3613.613534      4139.484352   6280.839607       2    29   \n",
      "62           0   3455.254195      4190.349732   7646.969226       2    77   \n",
      "65           0   4343.075296      4981.333373   7007.241656       2    43   \n",
      "67           0   2335.596182      2547.349832   3391.286832       1    44   \n",
      "68           0   5634.639492      6532.865516   7970.095929       2    22   \n",
      "70           0   3217.799925      3808.312243   4833.129067       2     8   \n",
      "72           0   3612.971757      4261.719088   6522.561064       1    43   \n",
      "...        ...           ...              ...           ...     ...   ...   \n",
      "13502        0   1914.655756      2032.811459   2579.841023       2    65   \n",
      "13506        0   8000.265025      8557.158828  15615.959146       2    17   \n",
      "13509        0   2418.379375      2753.388256   4777.128625       2    81   \n",
      "13511        0   1167.677859      1354.211024   1718.629211       1    75   \n",
      "13516        0   5025.106273      6183.537472   6688.732484       2    19   \n",
      "13518        0   3410.555993      5214.445430   9047.062822       1    65   \n",
      "13519        0   3410.638276      5269.197652   5699.691101       1    44   \n",
      "13520        0   1806.511457      2225.544850   3000.702121       2    17   \n",
      "13522        0   2418.069494      2761.550870   4791.290760       2    56   \n",
      "13525        0   4870.237192      5332.679814   8886.910910       1    29   \n",
      "13528        0   1806.325870      2302.206739   2993.098981       1    54   \n",
      "13531        0   4308.730685      6557.903716   8322.635605       1    78   \n",
      "13537        0   7768.205050     11737.299570  19740.964148       2    74   \n",
      "13538        0   3410.699028      3801.513533   6937.382047       2    38   \n",
      "13544        0   3612.891741      3860.578307   7045.169353       2    73   \n",
      "13547        0   2580.696230      3021.661943   5514.230879       1    14   \n",
      "13551        0   3248.105346      4194.073923   5322.699216       2    45   \n",
      "13555        0   5197.958762      5779.040455   7334.180241       1    17   \n",
      "13559        0   6704.586080      8349.765651  13914.884458       2    53   \n",
      "13560        0   4602.798759      7717.382897   9415.207134       1    29   \n",
      "13562        0   3453.545517      6628.022524  11499.619080       1    52   \n",
      "13565        0   3080.452699      3745.326058   5268.550165       1    79   \n",
      "13566        0   2418.538866      3653.453268   3951.940400       2    75   \n",
      "13569        0   2474.619764      3250.573384   3965.699528       1    44   \n",
      "13573        0   2418.089703      2698.650781   4497.301527       1    10   \n",
      "13576        0   3195.641221      3834.241709   6652.409365       1    78   \n",
      "13578        0   2080.317155      2422.820274   2627.548587       2     2   \n",
      "13581        0   2734.687353      4258.980140   7772.212858       2    28   \n",
      "13584        0   2580.967613      2925.167116   5075.164946       2    61   \n",
      "13588        0   4670.540953      5795.692880   6269.200989       1    78   \n",
      "\n",
      "       cmintvw  totalwgt_lb  \n",
      "0          NaN       8.8125  \n",
      "2          NaN       9.1250  \n",
      "5          NaN       8.5625  \n",
      "8          NaN       7.5625  \n",
      "10         NaN       7.8125  \n",
      "11         NaN       7.0000  \n",
      "15         NaN       7.6875  \n",
      "17         NaN       6.3125  \n",
      "19         NaN       8.7500  \n",
      "21         NaN       5.5625  \n",
      "23         NaN       6.7500  \n",
      "26         NaN       8.1250  \n",
      "27         NaN       7.1250  \n",
      "31         NaN       8.0000  \n",
      "32         NaN       7.5000  \n",
      "35         NaN       4.9375  \n",
      "39         NaN       7.1250  \n",
      "42         NaN       6.0000  \n",
      "44         NaN       7.9375  \n",
      "48         NaN       6.1875  \n",
      "52         NaN      10.5000  \n",
      "55         NaN       9.6250  \n",
      "58         NaN       6.1250  \n",
      "60         NaN       5.6250  \n",
      "62         NaN       6.8750  \n",
      "65         NaN       5.8125  \n",
      "67         NaN       7.1250  \n",
      "68         NaN       6.8125  \n",
      "70         NaN       6.3125  \n",
      "72         NaN       7.7500  \n",
      "...        ...          ...  \n",
      "13502      NaN       6.0000  \n",
      "13506      NaN       7.7500  \n",
      "13509      NaN       5.5625  \n",
      "13511      NaN       6.1875  \n",
      "13516      NaN       7.0000  \n",
      "13518      NaN       8.8750  \n",
      "13519      NaN          NaN  \n",
      "13520      NaN       5.5000  \n",
      "13522      NaN       6.1250  \n",
      "13525      NaN       8.3750  \n",
      "13528      NaN       8.8750  \n",
      "13531      NaN       6.9375  \n",
      "13537      NaN       8.3125  \n",
      "13538      NaN       7.6250  \n",
      "13544      NaN       5.8125  \n",
      "13547      NaN       4.1250  \n",
      "13551      NaN       5.3750  \n",
      "13555      NaN       6.1250  \n",
      "13559      NaN       7.8750  \n",
      "13560      NaN       7.8750  \n",
      "13562      NaN       8.1250  \n",
      "13565      NaN       8.1250  \n",
      "13566      NaN       7.5000  \n",
      "13569      NaN       5.8125  \n",
      "13573      NaN       6.5625  \n",
      "13576      NaN       6.4375  \n",
      "13578      NaN       6.0000  \n",
      "13581      NaN       6.3750  \n",
      "13584      NaN       6.3750  \n",
      "13588      NaN       6.1875  \n",
      "\n",
      "[4413 rows x 244 columns]\n"
     ]
    }
   ],
   "source": [
    "live, firsts, others = first.MakeFrames()\n",
    "print(firsts) #why does the pregordr column show cases where pregordr isn't 1?"
   ]
  },
  {
   "cell_type": "markdown",
   "metadata": {},
   "source": [
    "And compute the distribution of birth weight for first babies and others."
   ]
  },
  {
   "cell_type": "code",
   "execution_count": 7,
   "metadata": {
    "collapsed": false
   },
   "outputs": [
    {
     "name": "stdout",
     "output_type": "stream",
     "text": [
      "Firsts 4413 4363\n",
      "Others 4735 4675\n"
     ]
    }
   ],
   "source": [
    "first_wgt = firsts.totalwgt_lb\n",
    "first_wgt_dropna = first_wgt.dropna()\n",
    "print('Firsts', len(first_wgt), len(first_wgt_dropna))\n",
    " \n",
    "other_wgt = others.totalwgt_lb\n",
    "other_wgt_dropna = other_wgt.dropna()\n",
    "print('Others', len(other_wgt), len(other_wgt_dropna))\n",
    "\n",
    "first_pmf = thinkstats2.Pmf(first_wgt_dropna, label='first')\n",
    "other_pmf = thinkstats2.Pmf(other_wgt_dropna, label='other')"
   ]
  },
  {
   "cell_type": "markdown",
   "metadata": {},
   "source": [
    "We can plot the PMFs on the same scale, but it is hard to see if there is a difference."
   ]
  },
  {
   "cell_type": "code",
   "execution_count": 8,
   "metadata": {
    "collapsed": false
   },
   "outputs": [
    {
     "data": {
      "image/png": "[encoded data removed]",
      "text/plain": [
       "<matplotlib.figure.Figure at 0x7fa694d53d10>"
      ]
     },
     "metadata": {},
     "output_type": "display_data"
    }
   ],
   "source": [
    "width = 0.4 / 16\n",
    "\n",
    "# plot PMFs of birth weights for first babies and others\n",
    "thinkplot.PrePlot(2)\n",
    "thinkplot.Hist(first_pmf, align='right', width=width)\n",
    "thinkplot.Hist(other_pmf, align='left', width=width)\n",
    "thinkplot.Config(xlabel='Weight (pounds)', ylabel='PMF')"
   ]
  },
  {
   "cell_type": "markdown",
   "metadata": {},
   "source": [
    "`PercentileRank` computes the fraction of `scores` less than or equal to `your_score`."
   ]
  },
  {
   "cell_type": "code",
   "execution_count": 9,
   "metadata": {
    "collapsed": true
   },
   "outputs": [],
   "source": [
    "def PercentileRank(scores, your_score):\n",
    "    count = 0\n",
    "    for score in scores:\n",
    "        if score <= your_score:\n",
    "            count += 1\n",
    "\n",
    "    percentile_rank = 100.0 * count / len(scores)\n",
    "    return percentile_rank"
   ]
  },
  {
   "cell_type": "markdown",
   "metadata": {},
   "source": [
    "If this is the list of scores."
   ]
  },
  {
   "cell_type": "code",
   "execution_count": 10,
   "metadata": {
    "collapsed": true
   },
   "outputs": [],
   "source": [
    "t = [55, 66, 77, 88, 99]"
   ]
  },
  {
   "cell_type": "markdown",
   "metadata": {},
   "source": [
    "And you got the 88, your percentile rank is 80."
   ]
  },
  {
   "cell_type": "code",
   "execution_count": 11,
   "metadata": {
    "collapsed": false
   },
   "outputs": [
    {
     "data": {
      "text/plain": [
       "80.0"
      ]
     },
     "execution_count": 11,
     "metadata": {},
     "output_type": "execute_result"
    }
   ],
   "source": [
    "PercentileRank(t, 88)"
   ]
  },
  {
   "cell_type": "markdown",
   "metadata": {},
   "source": [
    "`Percentile` takes a percentile rank and computes the corresponding percentile. "
   ]
  },
  {
   "cell_type": "code",
   "execution_count": 12,
   "metadata": {
    "collapsed": true
   },
   "outputs": [],
   "source": [
    "def Percentile(scores, percentile_rank):\n",
    "    scores.sort()\n",
    "    for score in scores:\n",
    "        if PercentileRank(scores, score) >= percentile_rank:\n",
    "            return score"
   ]
  },
  {
   "cell_type": "markdown",
   "metadata": {},
   "source": [
    "The median is the 50th percentile, which is 77."
   ]
  },
  {
   "cell_type": "code",
   "execution_count": 13,
   "metadata": {
    "collapsed": false
   },
   "outputs": [
    {
     "data": {
      "text/plain": [
       "77"
      ]
     },
     "execution_count": 13,
     "metadata": {},
     "output_type": "execute_result"
    }
   ],
   "source": [
    "Percentile(t,60)"
   ]
  },
  {
   "cell_type": "markdown",
   "metadata": {},
   "source": [
    "Here's a more efficient way to compute percentiles."
   ]
  },
  {
   "cell_type": "code",
   "execution_count": 14,
   "metadata": {
    "collapsed": true
   },
   "outputs": [],
   "source": [
    "def Percentile2(scores, percentile_rank):\n",
    "    scores.sort()\n",
    "    index = percentile_rank * (len(scores)-1) // 100\n",
    "    return scores[index]"
   ]
  },
  {
   "cell_type": "markdown",
   "metadata": {},
   "source": [
    "Let's hope we get the same answer."
   ]
  },
  {
   "cell_type": "code",
   "execution_count": 15,
   "metadata": {
    "collapsed": false
   },
   "outputs": [
    {
     "data": {
      "text/plain": [
       "77"
      ]
     },
     "execution_count": 15,
     "metadata": {},
     "output_type": "execute_result"
    }
   ],
   "source": [
    "Percentile2(t, 60)"
   ]
  },
  {
   "cell_type": "markdown",
   "metadata": {},
   "source": [
    "The Cumulative Distribution Function (CDF) is almost the same as `PercentileRank`.  The only difference is that the result is 0-1 instead of 0-100."
   ]
  },
  {
   "cell_type": "code",
   "execution_count": 16,
   "metadata": {
    "collapsed": true
   },
   "outputs": [],
   "source": [
    "def EvalCdf(sample, x):\n",
    "    count = 0.0\n",
    "    for value in sample:\n",
    "        if value <= x:\n",
    "            count += 1\n",
    "\n",
    "    prob = count / len(sample)\n",
    "    return prob"
   ]
  },
  {
   "cell_type": "markdown",
   "metadata": {},
   "source": [
    "In this list"
   ]
  },
  {
   "cell_type": "code",
   "execution_count": 17,
   "metadata": {
    "collapsed": true
   },
   "outputs": [],
   "source": [
    "t = [1, 2, 2, 3, 5]"
   ]
  },
  {
   "cell_type": "markdown",
   "metadata": {},
   "source": [
    "We can evaluate the CDF for various values:"
   ]
  },
  {
   "cell_type": "code",
   "execution_count": 18,
   "metadata": {
    "collapsed": false
   },
   "outputs": [
    {
     "data": {
      "text/plain": [
       "(0.0, 0.2, 0.6, 0.8, 0.8, 1.0)"
      ]
     },
     "execution_count": 18,
     "metadata": {},
     "output_type": "execute_result"
    }
   ],
   "source": [
    "EvalCdf(t, 0), EvalCdf(t, 1), EvalCdf(t, 2), EvalCdf(t, 3), EvalCdf(t, 4), EvalCdf(t, 5)"
   ]
  },
  {
   "cell_type": "markdown",
   "metadata": {},
   "source": [
    "Here's an example using real data, the distribution of pregnancy length for live births."
   ]
  },
  {
   "cell_type": "code",
   "execution_count": 19,
   "metadata": {
    "collapsed": false
   },
   "outputs": [
    {
     "data": {
      "image/png": "[encoded data removed]",
      "text/plain": [
       "<matplotlib.figure.Figure at 0x7fa69393ba50>"
      ]
     },
     "metadata": {},
     "output_type": "display_data"
    }
   ],
   "source": [
    "cdf = thinkstats2.Cdf(live.prglngth, label='prglngth')\n",
    "thinkplot.Cdf(cdf)\n",
    "thinkplot.Config(xlabel='Pregnancy length (weeks)', ylabel='CDF', loc='upper left')\n"
   ]
  },
  {
   "cell_type": "markdown",
   "metadata": {},
   "source": [
    "`Cdf` provides `Prob`, which evaluates the CDF; that is, it computes the fraction of values less than or equal to the given value.  For example, 94% of pregnancy lengths are less than or equal to 41."
   ]
  },
  {
   "cell_type": "code",
   "execution_count": 20,
   "metadata": {
    "collapsed": false
   },
   "outputs": [
    {
     "data": {
      "text/plain": [
       "0.94064276344556186"
      ]
     },
     "execution_count": 20,
     "metadata": {},
     "output_type": "execute_result"
    }
   ],
   "source": [
    "cdf.Prob(41)"
   ]
  },
  {
   "cell_type": "markdown",
   "metadata": {
    "collapsed": true
   },
   "source": [
    "`Value` evaluates the inverse CDF; given a fraction, it computes the corresponding value.  For example, the median is the value that corresponds to 0.5."
   ]
  },
  {
   "cell_type": "code",
   "execution_count": 21,
   "metadata": {
    "collapsed": false
   },
   "outputs": [
    {
     "data": {
      "text/plain": [
       "36"
      ]
     },
     "execution_count": 21,
     "metadata": {},
     "output_type": "execute_result"
    }
   ],
   "source": [
    "cdf.Value(0.1)"
   ]
  },
  {
   "cell_type": "markdown",
   "metadata": {},
   "source": [
    "In general, CDFs are a good way to visualize distributions.  They are not as noisy as PMFs, and if you plot several CDFs on the same axes, any differences between them are apparent."
   ]
  },
  {
   "cell_type": "code",
   "execution_count": 22,
   "metadata": {
    "collapsed": false
   },
   "outputs": [
    {
     "data": {
      "image/png": "[encoded data removed]",
      "text/plain": [
       "<matplotlib.figure.Figure at 0x7fa690ebfb90>"
      ]
     },
     "metadata": {},
     "output_type": "display_data"
    }
   ],
   "source": [
    "first_cdf = thinkstats2.Cdf(firsts.totalwgt_lb, label='first')\n",
    "other_cdf = thinkstats2.Cdf(others.totalwgt_lb, label='other')\n",
    "\n",
    "thinkplot.PrePlot(2)\n",
    "thinkplot.Cdfs([first_cdf, other_cdf])\n",
    "thinkplot.Config(xlabel='Weight (pounds)', ylabel='CDF')"
   ]
  },
  {
   "cell_type": "markdown",
   "metadata": {},
   "source": [
    "In this example, we can see that first babies are slightly, but consistently, lighter than others.\n",
    "\n",
    "We can use the CDF of birth weight to compute percentile-based statistics."
   ]
  },
  {
   "cell_type": "code",
   "execution_count": 23,
   "metadata": {
    "collapsed": true
   },
   "outputs": [],
   "source": [
    "weights = live.totalwgt_lb\n",
    "live_cdf = thinkstats2.Cdf(weights, label='live')"
   ]
  },
  {
   "cell_type": "markdown",
   "metadata": {},
   "source": [
    "Again, the median is the 50th percentile."
   ]
  },
  {
   "cell_type": "code",
   "execution_count": 24,
   "metadata": {
    "collapsed": false
   },
   "outputs": [
    {
     "data": {
      "text/plain": [
       "7.375"
      ]
     },
     "execution_count": 24,
     "metadata": {},
     "output_type": "execute_result"
    }
   ],
   "source": [
    "median = live_cdf.Percentile(50)\n",
    "median"
   ]
  },
  {
   "cell_type": "markdown",
   "metadata": {},
   "source": [
    "The interquartile range is the interval from the 25th to 75th percentile."
   ]
  },
  {
   "cell_type": "code",
   "execution_count": 25,
   "metadata": {
    "collapsed": false
   },
   "outputs": [
    {
     "data": {
      "text/plain": [
       "(6.5, 8.125)"
      ]
     },
     "execution_count": 25,
     "metadata": {},
     "output_type": "execute_result"
    }
   ],
   "source": [
    "iqr = (live_cdf.Percentile(25), live_cdf.Percentile(75))\n",
    "iqr"
   ]
  },
  {
   "cell_type": "markdown",
   "metadata": {},
   "source": [
    "We can use the CDF to look up the percentile rank of a particular value.  For example, my second daughter was 10.2 pounds at birth, which is near the 99th percentile."
   ]
  },
  {
   "cell_type": "code",
   "execution_count": 26,
   "metadata": {
    "collapsed": false
   },
   "outputs": [
    {
     "data": {
      "text/plain": [
       "98.827174153573807"
      ]
     },
     "execution_count": 26,
     "metadata": {},
     "output_type": "execute_result"
    }
   ],
   "source": [
    "live_cdf.PercentileRank(10.2)"
   ]
  },
  {
   "cell_type": "markdown",
   "metadata": {},
   "source": [
    "If we draw a random sample from the observed weights and map each weight to its percentile rank."
   ]
  },
  {
   "cell_type": "code",
   "execution_count": 27,
   "metadata": {
    "collapsed": false
   },
   "outputs": [
    {
     "name": "stdout",
     "output_type": "stream",
     "text": [
      "9148\n"
     ]
    }
   ],
   "source": [
    "print(len(weights))\n",
    "sample = np.random.choice(weights, 9148, replace=True)\n",
    "ranks = [live_cdf.PercentileRank(x) for x in sample]"
   ]
  },
  {
   "cell_type": "markdown",
   "metadata": {},
   "source": [
    "The resulting list of ranks should be approximately uniform from 0-1."
   ]
  },
  {
   "cell_type": "code",
   "execution_count": 28,
   "metadata": {
    "collapsed": false
   },
   "outputs": [
    {
     "data": {
      "image/png": "[encoded data removed]",
      "text/plain": [
       "<matplotlib.figure.Figure at 0x7fa6939b0ed0>"
      ]
     },
     "metadata": {},
     "output_type": "display_data"
    }
   ],
   "source": [
    "rank_cdf = thinkstats2.Cdf(ranks)\n",
    "thinkplot.Cdf(rank_cdf)\n",
    "thinkplot.Config(xlabel='Percentile rank', ylabel='CDF')"
   ]
  },
  {
   "cell_type": "markdown",
   "metadata": {},
   "source": [
    "That observation is the basis of `Cdf.Sample`, which generates a random sample from a Cdf.  Here's an example."
   ]
  },
  {
   "cell_type": "code",
   "execution_count": 29,
   "metadata": {
    "collapsed": false
   },
   "outputs": [
    {
     "data": {
      "image/png": "[encoded data removed]",
      "text/plain": [
       "<matplotlib.figure.Figure at 0x7fa6937b1a50>"
      ]
     },
     "metadata": {},
     "output_type": "display_data"
    }
   ],
   "source": [
    "resample = live_cdf.Sample(1000)\n",
    "thinkplot.Cdf(live_cdf)\n",
    "thinkplot.Cdf(thinkstats2.Cdf(resample, label='resample'))\n",
    "thinkplot.Config(xlabel='Birth weight (pounds)', ylabel='CDF')"
   ]
  },
  {
   "cell_type": "markdown",
   "metadata": {},
   "source": [
    "This confirms that the random sample has the same distribution as the original data."
   ]
  },
  {
   "cell_type": "markdown",
   "metadata": {
    "collapsed": true
   },
   "source": [
    "## Exercises"
   ]
  },
  {
   "cell_type": "markdown",
   "metadata": {
    "collapsed": true
   },
   "source": [
    "**Exercise:** How much did you weigh at birth? If you don’t know, call your mother or someone else who knows. Using the NSFG data (all live births), compute the distribution of birth weights and use it to find your percentile rank. If you were a first baby, find your percentile rank in the distribution for first babies. Otherwise use the distribution for others. If you are in the 90th percentile or higher, call your mother back and apologize."
   ]
  },
  {
   "cell_type": "code",
   "execution_count": 31,
   "metadata": {
    "collapsed": false
   },
   "outputs": [
    {
     "data": {
      "text/plain": [
       "77.362248285018808"
      ]
     },
     "execution_count": 31,
     "metadata": {},
     "output_type": "execute_result"
    }
   ],
   "source": [
    "weights = live.totalwgt_lb\n",
    "live_cdf = thinkstats2.Cdf(weights, label='live')\n",
    "#overall percentile rank\n",
    "live_cdf.PercentileRank(8.2)"
   ]
  },
  {
   "cell_type": "code",
   "execution_count": 35,
   "metadata": {
    "collapsed": false
   },
   "outputs": [
    {
     "data": {
      "text/plain": [
       "75.443850267379673"
      ]
     },
     "execution_count": 35,
     "metadata": {},
     "output_type": "execute_result"
    }
   ],
   "source": [
    "weights = others.totalwgt_lb\n",
    "others_cdf = thinkstats2.Cdf(weights,label='live')\n",
    "#percentile rank among others\n",
    "others_cdf.PercentileRank(8.2)"
   ]
  },
  {
   "cell_type": "markdown",
   "metadata": {
    "collapsed": true
   },
   "source": [
    "**Exercise:** The numbers generated by `numpy.random.random` are supposed to be uniform between 0 and 1; that is, every value in the range should have the same probability.\n",
    "\n",
    "Generate 1000 numbers from `numpy.random.random` and plot their PMF.  What goes wrong?\n",
    "\n",
    "Now plot the CDF. Is the distribution uniform?"
   ]
  },
  {
   "cell_type": "code",
   "execution_count": 52,
   "metadata": {
    "collapsed": false
   },
   "outputs": [
    {
     "data": {
      "image/png": "[encoded data removed]",
      "text/plain": [
       "<matplotlib.figure.Figure at 0x7fa691267ad0>"
      ]
     },
     "metadata": {},
     "output_type": "display_data"
    }
   ],
   "source": [
    "def numpy_ran_gen(n):\n",
    "    vals = []\n",
    "    for i in xrange(n):\n",
    "        vals.append(np.random.random())\n",
    "    return vals\n",
    "\n",
    "pmf = thinkstats2.Pmf(numpy_ran_gen(1000))\n",
    "thinkplot.Pmf(pmf)\n",
    "\n",
    "#the problem is that the random num generator is uniform so the probability mass at any given number is the same\n",
    "#resulting in this entirely blue graph below"
   ]
  },
  {
   "cell_type": "code",
   "execution_count": 51,
   "metadata": {
    "collapsed": false
   },
   "outputs": [
    {
     "data": {
      "text/plain": [
       "{'xscale': 'linear', 'yscale': 'linear'}"
      ]
     },
     "execution_count": 51,
     "metadata": {},
     "output_type": "execute_result"
    },
    {
     "data": {
      "image/png": "[encoded data removed]",
      "text/plain": [
       "<matplotlib.figure.Figure at 0x7fa6938a9490>"
      ]
     },
     "metadata": {},
     "output_type": "display_data"
    }
   ],
   "source": [
    "\n",
    "cdf = thinkstats2.Cdf(numpy_ran_gen(1000))\n",
    "thinkplot.Cdf(cdf)"
   ]
  },
  {
   "cell_type": "code",
   "execution_count": 30,
   "metadata": {
    "collapsed": false
   },
   "outputs": [],
   "source": [
    "#uniform not normal distribution"
   ]
  },
  {
   "cell_type": "code",
   "execution_count": null,
   "metadata": {
    "collapsed": false
   },
   "outputs": [],
   "source": []
  }
 ],
 "metadata": {
  "kernelspec": {
   "display_name": "Python [Root]",
   "language": "python",
   "name": "Python [Root]"
  },
  "language_info": {
   "codemirror_mode": {
    "name": "ipython",
    "version": 2
   },
   "file_extension": ".py",
   "mimetype": "text/x-python",
   "name": "python",
   "nbconvert_exporter": "python",
   "pygments_lexer": "ipython2",
   "version": "2.7.12"
  }
 },
 "nbformat": 4,
 "nbformat_minor": 0
}
